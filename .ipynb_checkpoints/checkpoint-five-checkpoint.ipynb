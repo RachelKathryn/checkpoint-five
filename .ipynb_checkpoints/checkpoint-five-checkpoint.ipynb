{
 "cells": [
  {
   "cell_type": "markdown",
   "metadata": {
    "azdata_cell_guid": "c9a57f69-e372-43d2-94fc-ab1a9097069f"
   },
   "source": [
    "# Checkpoint Five: Modeling Data\n",
    "\n",
    "With your visualizations ready to go, the final step in your project is to do some predictive analysis on your dataset. You will be using linear regression for your model. You will not be penalized if your linear regression model does not work out. You just need to build the model and make notes as to the results.\n",
    "\n",
    "Link to my dataset: https://www.kaggle.com/datasets/nationalparkservice/park-biodiversity\n",
    "\n",
    "## Prepare Your Dataframe\n",
    "\n",
    "Import any libraries you need and create a dataframe."
   ]
  },
  {
   "cell_type": "code",
   "execution_count": 1,
   "metadata": {
    "azdata_cell_guid": "f9287db4-8af9-4bce-9a54-ffeeee0e045f"
   },
   "outputs": [],
   "source": [
    "import pandas as pd\n",
    "import matplotlib.pyplot as plt \n",
    "import seaborn as sns\n",
    "import numpy as np\n",
    "from sklearn.model_selection import train_test_split\n",
    "import statsmodels.api as sm\n",
    "\n",
    "parks = pd.read_csv(\"CleanParks.csv\")\n",
    "parks = parks.drop(columns=['Unnamed: 0'])\n",
    "\n",
    "species = pd.read_csv(\"CleanSpecies.csv\")\n",
    "species = species.drop(columns=['Unnamed: 0'])\n",
    "\n",
    "combo = pd.merge(parks, species, on=\"Park_Name\", how=\"outer\", indicator=True)"
   ]
  },
  {
   "cell_type": "code",
   "execution_count": 2,
   "metadata": {},
   "outputs": [
    {
     "name": "stdout",
     "output_type": "stream",
     "text": [
      "<class 'pandas.core.frame.DataFrame'>\n",
      "Int64Index: 119197 entries, 0 to 119196\n",
      "Data columns (total 19 columns):\n",
      " #   Column               Non-Null Count   Dtype   \n",
      "---  ------               --------------   -----   \n",
      " 0   Park_Code            119197 non-null  object  \n",
      " 1   Park_Name            119197 non-null  object  \n",
      " 2   State                119197 non-null  object  \n",
      " 3   Acres                119197 non-null  int64   \n",
      " 4   Latitude             119197 non-null  float64 \n",
      " 5   Longitude            119197 non-null  float64 \n",
      " 6   Species_ID           119197 non-null  object  \n",
      " 7   Category             119197 non-null  object  \n",
      " 8   Order                119197 non-null  object  \n",
      " 9   Family               119197 non-null  object  \n",
      " 10  Scientific_Name      119197 non-null  object  \n",
      " 11  Common_Names         119197 non-null  object  \n",
      " 12  Record_Status        119197 non-null  object  \n",
      " 13  Occurrence           119197 non-null  object  \n",
      " 14  Nativeness           119197 non-null  object  \n",
      " 15  Abundance            119197 non-null  object  \n",
      " 16  Seasonality          119197 non-null  object  \n",
      " 17  Conservation_Status  119197 non-null  object  \n",
      " 18  _merge               119197 non-null  category\n",
      "dtypes: category(1), float64(2), int64(1), object(15)\n",
      "memory usage: 17.4+ MB\n",
      "None\n",
      "  Park_Code             Park_Name State  Acres  Latitude  Longitude  \\\n",
      "0      ACAD  Acadia National Park    ME  47390     44.35     -68.21   \n",
      "1      ACAD  Acadia National Park    ME  47390     44.35     -68.21   \n",
      "2      ACAD  Acadia National Park    ME  47390     44.35     -68.21   \n",
      "3      ACAD  Acadia National Park    ME  47390     44.35     -68.21   \n",
      "4      ACAD  Acadia National Park    ME  47390     44.35     -68.21   \n",
      "\n",
      "  Species_ID Category         Order    Family         Scientific_Name  \\\n",
      "0  ACAD-1000   Mammal  Artiodactyla  Cervidae             Alces alces   \n",
      "1  ACAD-1001   Mammal  Artiodactyla  Cervidae  Odocoileus virginianus   \n",
      "2  ACAD-1002   Mammal     Carnivora   Canidae           Canis latrans   \n",
      "3  ACAD-1003   Mammal     Carnivora   Canidae             Canis lupus   \n",
      "4  ACAD-1004   Mammal     Carnivora   Canidae           Vulpes vulpes   \n",
      "\n",
      "                                        Common_Names Record_Status  \\\n",
      "0                                              Moose      Approved   \n",
      "1  Northern White-Tailed Deer, Virginia Deer, Whi...      Approved   \n",
      "2                             Coyote, Eastern Coyote      Approved   \n",
      "3        Eastern Timber Wolf, Gray Wolf, Timber Wolf      Approved   \n",
      "4  Black Fox, Cross Fox, Eastern Red Fox, Fox, Re...      Approved   \n",
      "\n",
      "      Occurrence  Nativeness  Abundance Seasonality Conservation_Status _merge  \n",
      "0        Present      Native       Rare    Resident           _MISSING_   both  \n",
      "1        Present      Native   Abundant   _MISSING_           _MISSING_   both  \n",
      "2        Present  Not Native     Common   _MISSING_  Species of Concern   both  \n",
      "3  Not Confirmed      Native  _MISSING_   _MISSING_          Endangered   both  \n",
      "4        Present     Unknown     Common     Breeder           _MISSING_   both  \n"
     ]
    }
   ],
   "source": [
    "print(combo.info())\n",
    "print(combo.head())"
   ]
  },
  {
   "cell_type": "markdown",
   "metadata": {
    "azdata_cell_guid": "d794ffe0-9cd3-4812-bc7d-f75460cf611c"
   },
   "source": [
    "## Find Correlations\n",
    "\n",
    "Use either pairplot or a heatmap or both to find the two variables with the strongest correlation in your dataset."
   ]
  },
  {
   "cell_type": "code",
   "execution_count": 3,
   "metadata": {
    "azdata_cell_guid": "b009376d-9eb1-4cf0-9487-f0ddc3dbc1cd"
   },
   "outputs": [
    {
     "name": "stderr",
     "output_type": "stream",
     "text": [
      "/var/folders/cv/mdwq80xn6p9c63w11qqrqsqw0000gn/T/ipykernel_99535/3741967461.py:1: FutureWarning: The default value of numeric_only in DataFrame.corr is deprecated. In a future version, it will default to False. Select only valid columns or specify the value of numeric_only to silence this warning.\n",
      "  sns.heatmap(combo.corr(), cmap=\"YlGnBu\", annot = True)\n"
     ]
    },
    {
     "data": {
      "image/png": "[encoded data removed]",
      "text/plain": [
       "<Figure size 640x480 with 2 Axes>"
      ]
     },
     "metadata": {},
     "output_type": "display_data"
    }
   ],
   "source": [
    "sns.heatmap(combo.corr(), cmap=\"YlGnBu\", annot = True)\n",
    "plt.show()"
   ]
  },
  {
   "cell_type": "markdown",
   "metadata": {
    "azdata_cell_guid": "b75b6098-4152-4701-9136-a8f774c8583e"
   },
   "source": [
    "## Create Your Model\n",
    "\n",
    "Use the two columns with the strongest correlation to create and train your model. Make sure to print out the summary and plot the column values and the line produced by the model."
   ]
  },
  {
   "cell_type": "code",
   "execution_count": 4,
   "metadata": {
    "azdata_cell_guid": "05ecd9c7-e4a4-4d5c-b092-3dff597e96a3"
   },
   "outputs": [],
   "source": [
    "# Assigning X and Y variables\n",
    "\n",
    "X = combo['Latitude']\n",
    "Y = combo['Acres']"
   ]
  },
  {
   "cell_type": "code",
   "execution_count": 5,
   "metadata": {
    "azdata_cell_guid": "f55fbe86-74b8-44f7-af96-7448e58983d7",
    "tags": []
   },
   "outputs": [
    {
     "data": {
      "text/plain": [
       "93155      112512\n",
       "55410       86416\n",
       "114921    2219791\n",
       "56212       29094\n",
       "62617        5550\n",
       "           ...   \n",
       "93516      112512\n",
       "59344      323431\n",
       "5836       801163\n",
       "61511      323431\n",
       "56171       29094\n",
       "Name: Acres, Length: 89397, dtype: int64"
      ]
     },
     "execution_count": 5,
     "metadata": {},
     "output_type": "execute_result"
    }
   ],
   "source": [
    "# Creating the train and test sets\n",
    "\n",
    "from sklearn.model_selection import train_test_split\n",
    "\n",
    "X_train, X_test, Y_train, Y_test = train_test_split(X, Y)\n",
    "X_train\n",
    "Y_train"
   ]
  },
  {
   "cell_type": "code",
   "execution_count": 6,
   "metadata": {},
   "outputs": [
    {
     "data": {
      "text/html": [
       "<table class=\"simpletable\">\n",
       "<caption>OLS Regression Results</caption>\n",
       "<tr>\n",
       "  <th>Dep. Variable:</th>          <td>Acres</td>      <th>  R-squared:         </th>  <td>   0.247</td>  \n",
       "</tr>\n",
       "<tr>\n",
       "  <th>Model:</th>                   <td>OLS</td>       <th>  Adj. R-squared:    </th>  <td>   0.247</td>  \n",
       "</tr>\n",
       "<tr>\n",
       "  <th>Method:</th>             <td>Least Squares</td>  <th>  F-statistic:       </th>  <td>2.940e+04</td> \n",
       "</tr>\n",
       "<tr>\n",
       "  <th>Date:</th>             <td>Sun, 15 Oct 2023</td> <th>  Prob (F-statistic):</th>   <td>  0.00</td>   \n",
       "</tr>\n",
       "<tr>\n",
       "  <th>Time:</th>                 <td>10:11:07</td>     <th>  Log-Likelihood:    </th> <td>-1.3918e+06</td>\n",
       "</tr>\n",
       "<tr>\n",
       "  <th>No. Observations:</th>      <td> 89397</td>      <th>  AIC:               </th>  <td>2.784e+06</td> \n",
       "</tr>\n",
       "<tr>\n",
       "  <th>Df Residuals:</th>          <td> 89395</td>      <th>  BIC:               </th>  <td>2.784e+06</td> \n",
       "</tr>\n",
       "<tr>\n",
       "  <th>Df Model:</th>              <td>     1</td>      <th>                     </th>      <td> </td>     \n",
       "</tr>\n",
       "<tr>\n",
       "  <th>Covariance Type:</th>      <td>nonrobust</td>    <th>                     </th>      <td> </td>     \n",
       "</tr>\n",
       "</table>\n",
       "<table class=\"simpletable\">\n",
       "<tr>\n",
       "      <td></td>        <th>coef</th>     <th>std err</th>      <th>t</th>      <th>P>|t|</th>  <th>[0.025</th>    <th>0.975]</th>  \n",
       "</tr>\n",
       "<tr>\n",
       "  <th>const</th>    <td>-2.344e+06</td> <td> 1.97e+04</td> <td> -119.165</td> <td> 0.000</td> <td>-2.38e+06</td> <td>-2.31e+06</td>\n",
       "</tr>\n",
       "<tr>\n",
       "  <th>Latitude</th> <td> 8.162e+04</td> <td>  476.028</td> <td>  171.450</td> <td> 0.000</td> <td> 8.07e+04</td> <td> 8.25e+04</td>\n",
       "</tr>\n",
       "</table>\n",
       "<table class=\"simpletable\">\n",
       "<tr>\n",
       "  <th>Omnibus:</th>       <td>39651.846</td> <th>  Durbin-Watson:     </th>  <td>   2.004</td> \n",
       "</tr>\n",
       "<tr>\n",
       "  <th>Prob(Omnibus):</th>  <td> 0.000</td>   <th>  Jarque-Bera (JB):  </th> <td>174165.100</td>\n",
       "</tr>\n",
       "<tr>\n",
       "  <th>Skew:</th>           <td> 2.218</td>   <th>  Prob(JB):          </th>  <td>    0.00</td> \n",
       "</tr>\n",
       "<tr>\n",
       "  <th>Kurtosis:</th>       <td> 8.204</td>   <th>  Cond. No.          </th>  <td>    174.</td> \n",
       "</tr>\n",
       "</table><br/><br/>Notes:<br/>[1] Standard Errors assume that the covariance matrix of the errors is correctly specified."
      ],
      "text/plain": [
       "<class 'statsmodels.iolib.summary.Summary'>\n",
       "\"\"\"\n",
       "                            OLS Regression Results                            \n",
       "==============================================================================\n",
       "Dep. Variable:                  Acres   R-squared:                       0.247\n",
       "Model:                            OLS   Adj. R-squared:                  0.247\n",
       "Method:                 Least Squares   F-statistic:                 2.940e+04\n",
       "Date:                Sun, 15 Oct 2023   Prob (F-statistic):               0.00\n",
       "Time:                        10:11:07   Log-Likelihood:            -1.3918e+06\n",
       "No. Observations:               89397   AIC:                         2.784e+06\n",
       "Df Residuals:                   89395   BIC:                         2.784e+06\n",
       "Df Model:                           1                                         \n",
       "Covariance Type:            nonrobust                                         \n",
       "==============================================================================\n",
       "                 coef    std err          t      P>|t|      [0.025      0.975]\n",
       "------------------------------------------------------------------------------\n",
       "const      -2.344e+06   1.97e+04   -119.165      0.000   -2.38e+06   -2.31e+06\n",
       "Latitude    8.162e+04    476.028    171.450      0.000    8.07e+04    8.25e+04\n",
       "==============================================================================\n",
       "Omnibus:                    39651.846   Durbin-Watson:                   2.004\n",
       "Prob(Omnibus):                  0.000   Jarque-Bera (JB):           174165.100\n",
       "Skew:                           2.218   Prob(JB):                         0.00\n",
       "Kurtosis:                       8.204   Cond. No.                         174.\n",
       "==============================================================================\n",
       "\n",
       "Notes:\n",
       "[1] Standard Errors assume that the covariance matrix of the errors is correctly specified.\n",
       "\"\"\""
      ]
     },
     "execution_count": 6,
     "metadata": {},
     "output_type": "execute_result"
    }
   ],
   "source": [
    "# Building the model. Adding a constant to get an intercept\n",
    "X_train_sm = sm.add_constant(X_train)\n",
    "\n",
    "# Fitting the regression line using 'OLS' regression function\n",
    "lr = sm.OLS(Y_train, X_train_sm).fit()\n",
    "\n",
    "# Printing the parameters and summary\n",
    "lr.params\n",
    "lr.summary()"
   ]
  },
  {
   "cell_type": "markdown",
   "metadata": {
    "azdata_cell_guid": "c021f50d-92b2-4359-b3a9-c47f62f0a94f"
   },
   "source": [
    "## Error Terms\n",
    "\n",
    "Finally, plot your error terms!"
   ]
  },
  {
   "cell_type": "code",
   "execution_count": 7,
   "metadata": {},
   "outputs": [],
   "source": [
    "# Predicting Y_value using training data of X\n",
    "Y_train_pred = lr.predict(X_train_sm)\n",
    "\n",
    "# Creating residuals from the Y_train data and predicted Y_data\n",
    "res = (Y_train - Y_train_pred)"
   ]
  },
  {
   "cell_type": "code",
   "execution_count": 8,
   "metadata": {
    "azdata_cell_guid": "87480c6c-1bb6-4135-953a-c74ba3da518d"
   },
   "outputs": [
    {
     "data": {
      "image/png": "[encoded data removed]",
      "text/plain": [
       "<Figure size 640x480 with 1 Axes>"
      ]
     },
     "metadata": {},
     "output_type": "display_data"
    }
   ],
   "source": [
    "# Plotting data\n",
    "\n",
    "fig = plt.figure()\n",
    "sns.histplot(res, bins = 15)\n",
    "plt.title('Error Terms', fontsize = 15)\n",
    "plt.xlabel('Y_train - Y_train_pred', fontsize = 15)\n",
    "plt.show()"
   ]
  },
  {
   "cell_type": "markdown",
   "metadata": {
    "azdata_cell_guid": "5fc50d24-c873-4801-87f2-a1e518caf424"
   },
   "source": [
    "## Summarize Your Work\n",
    "\n",
    "Make notes of your answers to the questions below.\n",
    "\n",
    "1. What was your R-squared value? \n",
    "\n",
    "0.247\n",
    "\n",
    "2. Based on your results, do you think a linear regression model was the best type of predictive analysis for your dataset? \n",
    "\n",
    "I do not think a linear regressional model was the best type of predictive analysis for my dataset. The vast majority of my data was qualitative (e.g., Park Name, Species Name) and the numeric data I did have is more or a dimension than a measure (i.e., latitude, longitude). If I had additional time I would recreate some of the calculations I used in Tableau to add quantitative information to my dataset, such as the number of species per park. In the absence of additional quantitative data a linear regression is not appropriate for my dataset. \n",
    "\n",
    "3. Was your plot of the error terms a bell curve? \n",
    "\n",
    "No. The plot is heavily skewed right. "
   ]
  }
 ],
 "metadata": {
  "kernelspec": {
   "display_name": "Python 3 (ipykernel)",
   "language": "python",
   "name": "python3"
  },
  "language_info": {
   "codemirror_mode": {
    "name": "ipython",
    "version": 3
   },
   "file_extension": ".py",
   "mimetype": "text/x-python",
   "name": "python",
   "nbconvert_exporter": "python",
   "pygments_lexer": "ipython3",
   "version": "3.10.9"
  }
 },
 "nbformat": 4,
 "nbformat_minor": 2
}
